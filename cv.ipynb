{
 "cells": [
  {
   "cell_type": "code",
   "execution_count": null,
   "metadata": {},
   "outputs": [],
   "source": [
    "import cv2\n",
    "  \n",
    "originalImage = cv2.imread('C:/Users/hp.DESKTOP-UNRH99J/Desktop/cat.jpg')\n",
    "grayImage = cv2.cvtColor(originalImage, cv2.COLOR_BGR2GRAY)\n",
    "  \n",
    "(thresh, blackAndWhiteImage) = cv2.threshold(grayImage, 127, 255, cv2.THRESH_BINARY)\n",
    " \n",
    "cv2.imshow('Black white image', blackAndWhiteImage)\n",
    "cv2.imshow('Original image',originalImage)\n",
    "cv2.imshow('Gray image', grayImage)\n",
    "\n",
    "\n",
    "cv2.waitKey(0)\n",
    "cv2.destroyAllWindows()"
   ]
  },
  {
   "cell_type": "code",
   "execution_count": null,
   "metadata": {},
   "outputs": [],
   "source": [
    "import cv2 \n",
    "import matplotlib.pyplot as plt \n",
    "img_bgr= cv2.imread('C:/Users/hp.DESKTOP-UNRH99J/Desktop/cat.jpg')\n",
    "\n",
    "img_neg = 1 - img_bgr \n",
    "\n",
    "\n",
    "color = ('b', 'g', 'r') \n",
    "  \n",
    "for i, col in enumerate(color): \n",
    "      \n",
    "    histr = cv2.calcHist([img_neg], \n",
    "                         [i], None,  \n",
    "                         [256], \n",
    "                         [0, 256]) \n",
    "      \n",
    "    plt.plot(histr, color = col) \n",
    "    plt.xlim([0, 256]) \n",
    "      \n",
    "plt.show() \n",
    "  \n",
    "plt.imshow(img_neg) \n",
    "plt.imshow(img_bgr) \n",
    "plt.show() "
   ]
  },
  {
   "cell_type": "code",
   "execution_count": null,
   "metadata": {},
   "outputs": [],
   "source": [
    "import cv2 \n",
    "har = cv2.CascadeClassifier('C:/Users/MAYANK /Downloads/opencv-master/opencv-master/data/haarcascades/haarcascade_frontalface_default.xml')\n",
    "img = cv2.imread('Desktop/Project.jpg')\n",
    "\n",
    "faces = har.detectMultiScale(img, 1.1, 4)\n",
    "for (x, y, w, h) in faces:\n",
    "    cv2.rectangle(img, (x, y), (x + w, y + h), (255, 0, 0), 2)\n",
    "    if cv2.waitKey(1)==27:\n",
    "            break\n",
    "print(len(faces))\n",
    "\n",
    "cv2.imshow('img', img)\n",
    "cv2.waitKey(0)\n",
    "cv2.destroyAllWindows()"
   ]
  }
 ],
 "metadata": {
  "kernelspec": {
   "display_name": "Python 3",
   "language": "python",
   "name": "python3"
  },
  "language_info": {
   "codemirror_mode": {
    "name": "ipython",
    "version": 3
   },
   "file_extension": ".py",
   "mimetype": "text/x-python",
   "name": "python",
   "nbconvert_exporter": "python",
   "pygments_lexer": "ipython3",
   "version": "3.7.6"
  }
 },
 "nbformat": 4,
 "nbformat_minor": 4
}
